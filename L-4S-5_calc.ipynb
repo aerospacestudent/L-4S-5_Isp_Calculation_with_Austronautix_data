{
 "cells": [
  {
   "cell_type": "markdown",
   "metadata": {},
   "source": [
    "Isp calculation für Lambda 4S-5 Configuration based on Astronautix Data\n",
    "    Note: The Thrust is assumed to be liniar, which is indeed not the case."
   ]
  },
  {
   "cell_type": "code",
   "execution_count": 1,
   "metadata": {},
   "outputs": [],
   "source": [
    "def ISP(Thrust,massflow):\n",
    "    g0=9.8066 #m/(s*s)\n",
    "    isp=Thrust/massflow/g0\n",
    "    return isp"
   ]
  },
  {
   "cell_type": "code",
   "execution_count": 5,
   "metadata": {},
   "outputs": [
    {
     "name": "stdout",
     "output_type": "stream",
     "text": [
      "Isp of Booster= 231.2sec\n"
     ]
    }
   ],
   "source": [
    "Fbooster = 95000 #Newton\n",
    "mb_ST = 190 #kg\n",
    "mb_0 = 500 #kg\n",
    "mbf= mb_0-mb_ST\n",
    "tboost= 7.4 #sec\n",
    "m_bf=mbf/tboost #massflow kg/s\n",
    "\n",
    "isp_booster=ISP(Fbooster,m_bf)\n",
    "isp_booster=format(isp_booster,'.4')+'sec'\n",
    "print('Isp of Booster=',isp_booster)"
   ]
  },
  {
   "cell_type": "code",
   "execution_count": 6,
   "metadata": {},
   "outputs": [
    {
     "name": "stdout",
     "output_type": "stream",
     "text": [
      "Isp Stage1= 590.0sec\n",
      "Note: the Isp is for sure wrong,\n",
      "i suggest that the Thrust data includes both boosters\n",
      "Therfore:\n",
      "Isp Stage1 reduced: 316.6sec\n"
     ]
    }
   ],
   "source": [
    "Fstage1 = 410000 #Newton\n",
    "ms1_ST = 2945 #kg\n",
    "ms1_0 = 5000 #kg\n",
    "ms1f= ms1_0-ms1_ST\n",
    "ts1= 29 #sec\n",
    "m_s1=ms1f/ts1 #massflow kg/s\n",
    "\n",
    "isp_s1= ISP(Fstage1,m_s1)\n",
    "print('Isp Stage1=',format((isp_s1),'.4')+'sec')\n",
    "print('Note: the Isp is for sure wrong,') \n",
    "print('i suggest that the Thrust data includes both boosters\\nTherfore:')\n",
    "print('Isp Stage1 reduced:',format((ISP((Fstage1-2*Fbooster),m_s1)),'.4')+'sec')"
   ]
  },
  {
   "cell_type": "code",
   "execution_count": 7,
   "metadata": {},
   "outputs": [
    {
     "name": "stdout",
     "output_type": "stream",
     "text": [
      "Isp of Stage4= 299.4sec\n"
     ]
    }
   ],
   "source": [
    "Fstage4 = 7800 #Newton\n",
    "ms4_ST = 15 #kg\n",
    "ms4_0 =  100 #kg\n",
    "ms4_f= ms4_0-ms4_ST\n",
    "ts4=  32#sec\n",
    "m_s4=ms4_f/ts4 #massflow kg/s\n",
    "\n",
    "isp_s4= ISP(Fstage4,m_s4)\n",
    "print('Isp of Stage4=',format((isp_s4),'.4')+'sec')"
   ]
  }
 ],
 "metadata": {
  "kernelspec": {
   "display_name": "Python 3.9.6 64-bit",
   "language": "python",
   "name": "python3"
  },
  "language_info": {
   "codemirror_mode": {
    "name": "ipython",
    "version": 3
   },
   "file_extension": ".py",
   "mimetype": "text/x-python",
   "name": "python",
   "nbconvert_exporter": "python",
   "pygments_lexer": "ipython3",
   "version": "3.9.6"
  },
  "orig_nbformat": 4,
  "vscode": {
   "interpreter": {
    "hash": "31f2aee4e71d21fbe5cf8b01ff0e069b9275f58929596ceb00d14d90e3e16cd6"
   }
  }
 },
 "nbformat": 4,
 "nbformat_minor": 2
}
